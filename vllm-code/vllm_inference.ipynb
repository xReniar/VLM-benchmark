{
 "cells": [
  {
   "cell_type": "code",
   "execution_count": null,
   "id": "d186952d",
   "metadata": {},
   "outputs": [],
   "source": [
    "import os\n",
    "import sys\n",
    "sys.path.append(f\"../{os.path.dirname(os.getcwd())}\")\n",
    "\n",
    "from dataset import *\n",
    "from PIL import Image\n",
    "import json\n",
    "import base64\n",
    "from openai import OpenAIc\n",
    "import time"
   ]
  },
  {
   "cell_type": "code",
   "execution_count": null,
   "id": "e7d73e61",
   "metadata": {},
   "outputs": [],
   "source": [
    "client = OpenAI(base_url=f\"http://localhost:8080/v1\", api_key=\"token-abc123\")"
   ]
  },
  {
   "cell_type": "code",
   "execution_count": null,
   "id": "5eb67e17",
   "metadata": {},
   "outputs": [],
   "source": [
    "system_message = \"\"\"You are a highly advanced Vision Language Model (VLM), specialized in extracting visual data.\n",
    "Your task is to process and extract meaningful insights from images that are asked in the prompt.\"\"\"\n",
    "\n",
    "imgs_fn = []"
   ]
  },
  {
   "cell_type": "code",
   "execution_count": null,
   "id": "2c079062",
   "metadata": {},
   "outputs": [],
   "source": [
    "def format_data(sample):\n",
    "    with open(sample.image_path, \"rb\") as img_file:\n",
    "        pil_image = base64.b64encode(img_file.read()).decode(\"utf-8\")\n",
    "\n",
    "    field_names = set([entity.label for entity in sample.entities])\n",
    "\n",
    "    output_format = {field: \"..\" for field in field_names}\n",
    "\n",
    "    prompt = \"Extract the following {fields} from the above document. If a field is not present, return ''. Return the output in a valid JSON format like {output_format}\" \\\n",
    "        .format(\n",
    "            fields = list(field_names),\n",
    "            output_format = output_format\n",
    "        )\n",
    "    \n",
    "    conversation = [\n",
    "        {\n",
    "            \"role\": \"system\",\n",
    "            \"content\": [{\"type\": \"text\", \"text\": system_message}]\n",
    "        },\n",
    "        {\n",
    "            \"role\": \"user\",\n",
    "            \"content\": [\n",
    "                {\n",
    "                    \"type\": \"image_url\",\n",
    "                    \"image_url\": {\n",
    "                        \"url\": f\"data:image/jpeg;base64,{pil_image}\"\n",
    "                    }\n",
    "                },\n",
    "                { \"type\": \"text\", \"text\": prompt }\n",
    "            ]\n",
    "        },\n",
    "        {\n",
    "            \"role\": \"assistant\",\n",
    "            \"content\": [{\n",
    "                \"type\": \"text\",\n",
    "                \"texg\": json.dumps(sample.to_json(\"kie\"))\n",
    "            }]\n",
    "        }\n",
    "    ]\n",
    "\n",
    "    return dict(\n",
    "        conversation = conversation,\n",
    "        img_path = sample.image_path\n",
    "    )"
   ]
  },
  {
   "cell_type": "code",
   "execution_count": null,
   "id": "cf2dbd9f",
   "metadata": {},
   "outputs": [],
   "source": [
    "dataset = \"sroie\"\n",
    "\n",
    "if dataset == \"docile\":\n",
    "    test_dataset = [format_data(sample) for sample in DocILE(tasks=[\"kie\"], split=\"val\")]\n",
    "else:\n",
    "    test_dataset = [format_data(sample) for sample in SROIE(tasks=[\"kie\"], split=\"test\")]\n",
    "\n",
    "test_dataset[0]"
   ]
  },
  {
   "cell_type": "code",
   "execution_count": null,
   "id": "f7ab95d2",
   "metadata": {},
   "outputs": [],
   "source": [
    "result = {}\n",
    "\n",
    "for obj in test_dataset:\n",
    "    start = time.time()\n",
    "    response = client.chat.completions.create(\n",
    "        model=f\"xReniar/SmolVLM2-2.2B-{dataset}_ft\",\n",
    "        messages = obj[\"conversation\"][0:2],\n",
    "        max_tokens = 3000\n",
    "    )\n",
    "    end = time.time()\n",
    "\n",
    "    img_fn = obj[\"img_path\"].split(\"/\")[-1]\n",
    "\n",
    "    response = response.choices[0].message.content\n",
    "    result[img_fn] = {\n",
    "        \"response\": response.strip(\" ```json\").strip(\"```\"),\n",
    "        \"time\": end - start\n",
    "    }\n",
    "\n",
    "    with open(f\"qwen2.5-vl-3B-{dataset}.json\", \"w\") as f:\n",
    "        json.dump(result, f, indent=4)"
   ]
  }
 ],
 "metadata": {
  "kernelspec": {
   "display_name": "vlm",
   "language": "python",
   "name": "python3"
  },
  "language_info": {
   "name": "python",
   "version": "3.11.13"
  }
 },
 "nbformat": 4,
 "nbformat_minor": 5
}
