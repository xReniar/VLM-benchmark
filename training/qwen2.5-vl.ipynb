{
 "cells": [
  {
   "cell_type": "markdown",
   "id": "d3cc2942",
   "metadata": {},
   "source": [
    "### DPO Dataset Format"
   ]
  },
  {
   "cell_type": "code",
   "execution_count": null,
   "id": "e3a1880a",
   "metadata": {},
   "outputs": [],
   "source": [
    "pil_image = None\n",
    "\n",
    "messages = {\n",
    "    'chosen': [{\n",
    "        'content': [{\n",
    "            'text': 'The image showcases a white mobile device with various buttons and a screen, positioned on a stand accompanied by two speakers.',\n",
    "            'type': 'text'}\n",
    "        ],\n",
    "        'role': 'assistant'\n",
    "    }],\n",
    "    'rejected': [{\n",
    "        'content': [{\n",
    "            'text': 'The image features a white Qool speaker dock with a silver phone, orange and black buttons, a clear glass case, and a round table in the background.',\n",
    "            'type': 'text'\n",
    "        }],\n",
    "        'role': 'assistant'\n",
    "    }],\n",
    "    'images': [pil_image],\n",
    "    'prompt': [{\n",
    "        'content': [\n",
    "            {'text': None,'type': 'image'},\n",
    "            {'text': 'Itemize the elements you identify in the image and describe them thoroughly.','type': 'text'}\n",
    "        ],\n",
    "        'role': 'user'\n",
    "    }]\n",
    "}"
   ]
  }
 ],
 "metadata": {
  "language_info": {
   "name": "python"
  }
 },
 "nbformat": 4,
 "nbformat_minor": 5
}
